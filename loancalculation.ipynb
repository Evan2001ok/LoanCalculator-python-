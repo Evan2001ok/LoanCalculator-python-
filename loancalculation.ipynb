{
 "cells": [
  {
   "cell_type": "code",
   "execution_count": 12,
   "id": "3587bef6-f061-46d2-8726-d77d9d9a87a5",
   "metadata": {},
   "outputs": [
    {
     "name": "stdout",
     "output_type": "stream",
     "text": [
      "第 1 月，需要还款 516.67\n",
      "第 2 月，需要还款 512.50\n",
      "第 3 月，需要还款 508.33\n",
      "第 4 月，需要还款 504.17\n",
      "第 5 月，需要还款 500.00\n",
      "第 6 月，需要还款 495.83\n",
      "第 7 月，需要还款 491.67\n",
      "第 8 月，需要还款 487.50\n",
      "第 9 月，需要还款 483.33\n",
      "第 10 月，需要还款 479.17\n",
      "第 11 月，需要还款 475.00\n",
      "第 12 月，需要还款 470.83\n",
      "第 13 月，需要还款 466.67\n",
      "第 14 月，需要还款 462.50\n",
      "第 15 月，需要还款 458.33\n",
      "第 16 月，需要还款 454.17\n",
      "第 17 月，需要还款 450.00\n",
      "第 18 月，需要还款 445.83\n",
      "第 19 月，需要还款 441.67\n",
      "第 20 月，需要还款 437.50\n",
      "第 21 月，需要还款 433.33\n",
      "第 22 月，需要还款 429.17\n",
      "第 23 月，需要还款 425.00\n",
      "第 24 月，需要还款 420.83\n"
     ]
    }
   ],
   "source": [
    "def calc_epp(P, R, N, n):\n",
    "    # Calculate monthly principal repayment\n",
    "    principal_payment = P / N\n",
    "    # Remaining principal to be repaid\n",
    "    remaining_principal = P - principal_payment * n\n",
    "    # Calculate interest for the month\n",
    "    interest_payment = remaining_principal * R\n",
    "    # Total payment for the month\n",
    "    monthly_payment = round(principal_payment + interest_payment, 2)\n",
    "    return monthly_payment\n",
    "\n",
    "def calc_elp(P, R, N):\n",
    "    # Calculate the monthly payment using the ELP formula\n",
    "    monthly_payment = round((P * R * (1 + R) ** N) / ((1 + R) ** N - 1), 2)\n",
    "    return monthly_payment\n",
    "\n",
    "def calc_monthly_payment(P, R, N, EPP):\n",
    "    if EPP:\n",
    "        # Print payments for each month using EPP\n",
    "        for n in range(N):\n",
    "            monthly_payment = calc_epp(P, R, N, n)\n",
    "            print(\"第 %i 月，需要还款 %.2f\" % (n+1, monthly_payment))\n",
    "    else:\n",
    "        # Print payments for each month using ELP\n",
    "        monthly_payment = calc_elp(P, R, N)\n",
    "        for n in range(N):\n",
    "            print(\"第 %i 月，需要还款 %.2f\" % (n+1, monthly_payment))\n",
    "\n",
    "# Test the function with an example\n",
    "calc_monthly_payment(10000, 0.01, 24, True)\n"
   ]
  },
  {
   "cell_type": "code",
   "execution_count": null,
   "id": "b4a893ea-2777-42af-83d9-c746d5365e7d",
   "metadata": {},
   "outputs": [],
   "source": []
  }
 ],
 "metadata": {
  "kernelspec": {
   "display_name": "Python 3 (ipykernel)",
   "language": "python",
   "name": "python3"
  },
  "language_info": {
   "codemirror_mode": {
    "name": "ipython",
    "version": 3
   },
   "file_extension": ".py",
   "mimetype": "text/x-python",
   "name": "python",
   "nbconvert_exporter": "python",
   "pygments_lexer": "ipython3",
   "version": "3.11.7"
  }
 },
 "nbformat": 4,
 "nbformat_minor": 5
}
